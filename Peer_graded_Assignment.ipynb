{
 "cells": [
  {
   "cell_type": "markdown",
   "metadata": {},
   "source": [
    "<center>\n",
    "    <img src=\"https://cf-courses-data.s3.us.cloud-object-storage.appdomain.cloud/IBMDeveloperSkillsNetwork-DS0105EN-SkillsNetwork/labs/Module2/images/SN_web_lightmode.png\" width=\"300\" alt=\"cognitiveclass.ai logo\"  />\n",
    "</center>\n"
   ]
  },
  {
   "cell_type": "markdown",
   "metadata": {},
   "source": [
    "# My Jupyter Notebook Assignment."
   ]
  },
  {
   "cell_type": "markdown",
   "metadata": {},
   "source": [
    "Name: **Othmane Tamri**  \n",
    "Occupation: Advanced Driving Data engineering"
   ]
  },
  {
   "cell_type": "markdown",
   "metadata": {},
   "source": [
    "_I am interested in data science because I would like to apply it in my current field of work which is advanced driving systems for passenger vehicles. Mores specifically, I would like to use Data science on data collected by the various vehicle sensors and imrpove active safety algirothms  to increase vehicle safety._"
   ]
  },
  {
   "cell_type": "markdown",
   "metadata": {},
   "source": [
    "### The following code is supposed to print out the first 10 terms of the fibanacci sequence."
   ]
  },
  {
   "cell_type": "code",
   "execution_count": 8,
   "metadata": {},
   "outputs": [
    {
     "name": "stdout",
     "output_type": "stream",
     "text": [
      "This is the first 10 terms of the Fibonacci sequence:\n",
      "0\n",
      "1\n",
      "1\n",
      "2\n",
      "3\n",
      "5\n",
      "8\n",
      "13\n",
      "21\n",
      "34\n"
     ]
    }
   ],
   "source": [
    "print(\"This is the first 10 terms of the Fibonacci sequence:\")\n",
    "n1, n2 = 0, 1\n",
    "count = 0\n",
    "nterms = 10\n",
    "while count < nterms:\n",
    "    print(n1)\n",
    "    nth = n1 + n2\n",
    "    # update values\n",
    "    n1 = n2\n",
    "    n2 = nth\n",
    "    count += 1"
   ]
  },
  {
   "cell_type": "markdown",
   "metadata": {},
   "source": [
    "Below are 4 types of Markdown formats:  \n",
    "_table, horizontal rule, numbered list, horigontal line, image._ \n",
    "***\n",
    "| Colomn 1  | Colomn 2 | Colomn 3 |\n",
    "| --------- |:--------:|:--------:|\n",
    "| Data 1    | Value 1  | Value 4  |\n",
    "| Data 2    | Value 2  | Value 5  |\n",
    "| Data 3    | Value 3  | Value 6  |\n",
    "***\n",
    "1. First ordered list item\n",
    "2. Second ordered item \n",
    "3. Third item\n",
    "***\n",
    "Coursera ogo image with reference:   \n",
    "![alt text][logo]\n",
    "\n",
    "[logo]: data:image/png;base64,iVBORw0KGgoAAAANSUhEUgAAAOEAAADhCAMAAAAJbSJIAAAAllBMVEUAVtL///8AUdEAStAAVNIATdAARs8AT9EASM8ATtEARM8AR8/z9vwAQs71+v7T3vVVgNyitOh0l+LX5Pfi6fiqvetMe9qUr+hjjd97nOM5bdccYdW5ye9DctjG1PLR3PVfiN6Eo+Xq7/qPqeYvZtUAPM1rlOGtw+5RftsOXNSXtOq9zvFymOLH2PQ4ctmdsedei9+DpeavBi0VAAAN8UlEQVR4nO2dWXuqOhSGIQkEEVGcUFHBoXZXa0/3//9zB7R1ZFgrA3Ke53x3+2JTXhOSlTXFMHXL845xEPQnk4QYvyLJZNIPgvjoaf/zpqHx2d5wvpl8tV3HsSxOyBUwRSSEW5bjdKKvP5v3WCeoLsJuMJ1FLuWcGaVijHBqR7Np0NX0JjoIB0GPpaPGKuDuONMRZb1goOFtVBOu5wm1LQKHu8Eklk2TueoZq5RwOOrZVIjuSul89EZDlS+ljtCfLwgl1RDVkJQs5r6y91JFuPyWHL0HSHe6VPRmSgi9zcxWMHp34u44VPJJKiCMV4alavRuRaixihtA2B3Tqj1PWIzTsfQ2KUnYHXdUT897kY4soxRh3NPMd2bsSc1VCcK4p2JzgDBSGUZhQr/XrofvxNjuC2+QgoT+psVr48vUam1qJVxuqa71s0jMGYvZACKE3tSumy8TsaciJoAA4eGt3gl6lRUdaiBcJ+6L+FIx2kcPI5bwwF41gGfhhxFJOK19hXkUo1ONhKkN+mK+THSx1kW4JPXt8WUiHLNvIAhX7qtn6K+Yu9JBmDRhhv6KJsoJhy9eQx9lbaHuKiBhHDXjE7yKRMDzBoxw+RIzrVzMhq03IMKw0zzAFLETqiIM7VfDFMiGIAIIwyYtoveiAMRqwtBp4hQ9iznViJWE4QuPEgC5lYhVhKHzaoYKVY5iBWH48rNElVjVt1hO2NhV9FYVK2op4bLz6rcHqVO69ZcRxg20ZPLE7DIDroRwGP03AFPEqMQMLyHcNs3YLhZhIoSJpfg1GOOnHBqnbdt223GoZbUwCRtl4sXnxULClUpbjXGLusbXZBXu4zgerNfrQdw97PebXfTRcSwiz0lXWMKlMlOGcWpFu2Be5D7yDqM/W0s6zOoWLagFhGs1cV3GLDrbHaqP48PD54KKpeH8/ilSEEktIFyoWGWYxb9CeAR3sE+IhJVPxhjCqfxHyIj7scem/qznkSs8ewpcxbmEB2nAdPgSsSS19UQ4s4PmOvzzCD3ZrZ5R/PDdaLQVm6yM5a1meYR9uZ0w5RvJJW35o0iIMXdXzCGUm6PMInspvLNGhsi5zc2Zp8+EcnOUU9F4+xNjJPA9vj2HF58JpxJzlLmJusxJv48fRv68nj4RLiUOvVb0rowv0wCfEPHsJn4iHAvv9ay9U56RHlrI12Hbx0XukXAj7HniTO0AnjXYIj+ap3XggdBvCVsUY1RkFiyvj1vaWethEB8I+y0xPtbZaeHLNMJFTXivjDBuCwIaOmborwYfqNhl+95rc0/YE1tmCFGQy1uiNSpDgtwP4h1hLGbNkEjPJ3iVv8O8Gb37ve8IxYaQRzXUZ2EQ7wfxlrAr5ADm2xoATfMTgdi5PXbfEgpt9qQeQBTi3XH/hlBoCEkdU/SsHdwYuR3EG0KRIaxtBE+I4FG8HcQrochCypjSIqxKRLAFd7OcXglX+JQgpnkffJQPnmZ89UzoGXiL1NVpyeQJ7MZlxuXruRAKZFzQz5oBTXPYBiJalyPGhRC/zhS5YLVqDxwINnskxMcpWEu3rZYr6GpzOez/Ek7R64xd90d4FtRRRr7vCX30EHJ9B8JyDaCD6N8RzrHrDIvUVeoiCYGDSOd3hOhYkz0SfUPveJbYV+xvoO43srglHGIjd4+uApjiUX9GL3K2kwBbyhRwsJuYkeEN4Qg5SRlFj4A/n0b2faMFxq220T/Ap/tygQln0NENIfboa62QfOvV1sm1RxhvRztYHG79B1fR+XMQPhGukX7uJ49d1bt9tkomF+Otb0CkeIXOpbfXF0LsSgpJXL3K67crzEnG3UnFOB4+8HGa82p6Ikxwk5R9YA6F7zbkt+ftspjVcSxSzUKSCyEy/mEhAmjDBGgrMzorGsZ1Hxu9+H3kL+EA9xlihnBJ4B8P4fl77D5/jQLIHvwQBrjgB2II96jJxTqr50fMI/EkXiv4IUTuFTZ4CP9igwTOo7E7mMiUk532i4wQl1UGPxZO8NFkvrjbhz65VLUVY2fCLu5FbGiWE8L7dxX/uj5gVNlHq0pW90SI+wzBhwrB5Ebrd6LGY6jHouRhwYkQd/jNyQXI1btgoO4neWudqGi6kb1sSjhD/VTASToQXyGc1BTZqCl3zLw1BjJ/5jkTIF9b8RnGWiOqqGkRi7yUMEbt98BJCvdO572XuqZM7jAlfEetCBao4H+gpXGUgFLj2zD7mBmfn/73KF9ijqoV36SEKIuGfVXz4V0G+sQnKeEC83tzkE3anFKUdEQMD7VvOZDPsDlDaBhtz/BQvuAOZK/4aMwQpoupZxwx1iP7AAAi7Vy9co4GKiOYQBaaSZO6Lzix8Q/mF4c03JLOg1cqKzBQJwsK8OUfRE1uLUoJURu+A4jbC+QDaBTvGxPMhu8CLBrU/qpdZIIiZKTaReNp6/UppJQQ4w2G+BGRrkndIomBskoBh8MmGTSZcJ4CAogaIp2vDROEEJ/y0CSRSTUhavdpnPj/hP8TNl6Q73D33yYErKUbwaobfcLYWBDCfeP2Q8xpDhJYw7lf9YsYO5RdWm21DZvVOSu1S1WfLfwm+aHQpyfQ+bBRbpqMUPkZv1lLTXrGV+6nGTRqqcF6okDN7XERV81KCWOMRxhi1Jhhk6apEyN93pBmoMMmTVPnaHioijVQ3EKw1laLXM/AhcJAsacmOaPaKeGX+vhh0pgtkS1MA7dDw2LA3cZ0zEzPCoa5UR/HNydyRyhFbeqMbMNPCXEp0BaofkDOOGVsrGoS0PeUEHcYgDgyUs1lThjW1AwVtYC3Y3xO1AyWEyXRdZFs0//vJSruKTjnROnJaxPvnMn4udYlnsmnHZ3z2jTlJg5EP0XnUvW3l56qP7mJ2PxSGKE5EGu6dluV4H1K3gv2k1+KzJ0AmTWZ5m8CiPT77hkDVKXTk35yhLXlec/xSb70qW5TqKnZj37zvNG5+uCGiMcPZDGOk/OR+4L1JMZNrj4y5AezTU8abFEGEw1ynzKcCTalvtRbaKyZ8Xtw64QX3zoyF0uqvdTM6Kx7MkfAJk/MSkpsCX/K8VP1Wvekt3Zt/Q3o1cWc7bz8Md0xelW9qV3TW39odiOnvM6YUQboBzrHrqrOtf5Qdw2p+d5rFafZEPoB6wfqr1BFQj9TTawOGHjCuNFgF9k5kIxTp/cO/r2GiIXrrg4YnwTj4C/p9Y/9qEOv3ckZ4dSlfeRF6scI/Kp3tdzoenxIJDFH6/cwmRHnVI0f9TZC18QHwNzH+3r8OnsqpPJ9mZYT7zAD5b6ngkBfDJjDRoeAxRwPfTF8tIuT/3kR4AY4GO59bxPzG20yvKg/zRIYhbic1C89htCDyCyxputyAnvx3MceQwIxMQJ0SilVAvTEXk+xF8IN3jlm1d9mCNzm+GpYXvu1CXiOXJktQ0QHaKAsr1+bUIZB51grINwwyeu5J9g3sc62gkP4NMvtmyjW+7K+5p7pYgh+wfzel03vX+rP4J9RQf/SZveg9cfwiF1RD9pm9xFeIBbCwj7CTe4FjZiiJb2gxft548/DOA0xgGX9vIV7sjO9+yKu7XxZT3bxvvpU50FjifPnlvbVN3uCETvm6rNR/+LuRmj17/+7svstrC89h6n1GNfIp+p+C/AJ+llEyx0lSwM5q5yKO0pkWlqwdqJ62/B32BDkc3RT6V1BnKgdxgN2AEF3BUmV1zFX8D65PA2/8QknFuC+J9N7EydMhxEVeivTJ6Jd369YjnmVd++aVMVEdu+aAv/NSOiOwLz7AfOSfiWTJ7O7AeWWHNG786x+zsPyCNeyuYEZo/g4rv+K3n+YewTQdoclm4qtOfEO3gz5QfA7LNXcQ8rdxQg7Wdfhtp57SBXdJUsoTd7BI+kNwoUrkaz3G2sCEqq6D5hQst0sq4dyeJhElnBm0OlP8YJgmPY7nRnjFo/6o2PR0uMdgh5r1X6ns9p7uTNKx42++uF+H8fd9eVe7tUuslz6mnu5NZQUZJzZ3erZ1eo/d6tzVXerWwJ3q5sma1DpS4VOidN4wmGjGj6ViUUlKQ9lpVqxYEpg3WJ2WfSktBhtKeQirl2d0hqQ8nK7sEE1WoWyy7PsKgoKw8ZUMBWJVaURVpVMhsK359YkpypPsrIoNGxWB4FHuZWJoNVlr6FUPYBescoRhBCK3MhWlyCpvJDS5cauqNVTFEhohrjIQU1ib6BkFxChuWygdcOenb8ShGYcNc0MJ8XVGUKE5hB7i7tmcfANqFDC9LzYpCWVFp8HxQnNlYq6VSVi7gr+2ghCcylQmaNDhGMupMMQmutFE2YqXaBSzFGEmav41TOVFTh+VRGah+i1a2orghbpihKaXv+Vw+jiA+lowlcOI3/DDqAYoelN7VcsqsyeioQlRQjTfQNf7ijNR7fYS0tlCLMWl/X2uOStjWDMVZTQ9PuS/Q4wIk5POKYsTJieN3oqrtWC8NGeRMK8BGHG2NHPSDoyfJKEWYW1ZkbSGUum50oSZozSwc1CMU5l+RQQpnN1ZWj5IJn1kSgoWFFAmJoA4dhVHU8l9myjJNVRCWGq5dSl2HLpQjFC7W+x/f1Zqgizq8UXRMlsTZ+ymKsrbVRHmGo46tlyI5muLXZPqIi9UEoJU63nCbUtIUpGLJtO56prxFUTZhoEPWZZmDSLU5oG6wU6kuF1EGbqBtNZZFNeNZopG6duNJsGuupudBFm8uL3fm/Rdk+ZM4TcrEIs/RfPcms60ddkMx/qLJzSSXiW5x0P/wT9yeTa54dFu8mkHwTxsYaasH8Bv4zkxImuWyQAAAAASUVORK5CYII= \"Coursera Logo\"\n"
   ]
  }
 ],
 "metadata": {
  "kernelspec": {
   "display_name": "Python",
   "language": "python",
   "name": "conda-env-python-py"
  },
  "language_info": {
   "codemirror_mode": {
    "name": "ipython",
    "version": 3
   },
   "file_extension": ".py",
   "mimetype": "text/x-python",
   "name": "python",
   "nbconvert_exporter": "python",
   "pygments_lexer": "ipython3",
   "version": "3.7.12"
  }
 },
 "nbformat": 4,
 "nbformat_minor": 4
}
